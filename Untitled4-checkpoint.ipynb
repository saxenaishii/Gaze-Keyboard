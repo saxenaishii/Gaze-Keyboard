{
 "cells": [
  {
   "cell_type": "code",
   "execution_count": 10,
   "metadata": {},
   "outputs": [],
   "source": [
    "import cv2\n",
    "import numpy as np\n",
    "\n",
    "keyboard = np.zeros((1000,1500,3),np.uint8)"
   ]
  },
  {
   "cell_type": "code",
   "execution_count": 11,
   "metadata": {},
   "outputs": [],
   "source": [
    "def letter(x,y,text):\n",
    "    \n",
    "    # Keys \n",
    "    #Each key is simply a rectangle containing some text. So we define the sizes and we draw the rectangle.\n",
    "    width = 200\n",
    "    height = 200\n",
    "    th = 3 # thickness\n",
    "    cv2.rectangle(keyboard, (x + th, y + th), (x + width - th, y + height - th), (255, 0, 0), th)\n",
    "    \n",
    "    \n",
    "    #Inside the rectangle now we put the letter. So we define the sizes and style of the text and we center it.\n",
    "    #Text settings\n",
    "    font_letter = cv2.FONT_HERSHEY_PLAIN\n",
    "    font_scale = 10\n",
    "    font_th = 4\n",
    "    text_size = cv2.getTextSize(text, font_letter, font_scale, font_th)[0]\n",
    "    width_text, height_text = text_size[0], text_size[1]\n",
    "    text_x = int((width - width_text) / 2) + x\n",
    "    text_y = int((height + height_text) / 2) + y\n",
    "    cv2.putText(keyboard, text, (text_x, text_y), font_letter, font_scale, (255, 0, 0), font_th)"
   ]
  },
  {
   "cell_type": "code",
   "execution_count": 12,
   "metadata": {},
   "outputs": [],
   "source": [
    "letter(0, 0, \"A\")\n",
    "letter(200, 0, \"B\")\n",
    "letter(400, 0, \"C\")"
   ]
  },
  {
   "cell_type": "code",
   "execution_count": 13,
   "metadata": {},
   "outputs": [],
   "source": [
    "cv2.imshow(\"KEYBOARD\",keyboard)\n",
    "cv2.waitKey(0)\n",
    "cv2.destroyAllWindows()"
   ]
  }
 ],
 "metadata": {
  "kernelspec": {
   "display_name": "Python 3",
   "language": "python",
   "name": "python3"
  },
  "language_info": {
   "codemirror_mode": {
    "name": "ipython",
    "version": 3
   },
   "file_extension": ".py",
   "mimetype": "text/x-python",
   "name": "python",
   "nbconvert_exporter": "python",
   "pygments_lexer": "ipython3",
   "version": "3.8.5"
  }
 },
 "nbformat": 4,
 "nbformat_minor": 4
}
